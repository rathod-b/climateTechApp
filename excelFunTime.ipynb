{
 "cells": [
  {
   "cell_type": "code",
   "execution_count": 1,
   "metadata": {},
   "outputs": [],
   "source": [
    "import pandas as pd\n",
    "\n",
    "# Read the file with all sheets\n",
    "f = pd.ExcelFile('ctcnDataInput.xlsx')\n",
    "\n",
    "# Sheets contains the list of countries a.k.a. sheet names\n",
    "sheets = f.sheet_names"
   ]
  },
  {
   "cell_type": "code",
   "execution_count": 2,
   "metadata": {},
   "outputs": [],
   "source": [
    "dfs = []\n",
    "\n",
    "# For all sheets, cleanse the data\n",
    "for c in range(len(sheets)):\n",
    "    \n",
    "    # Load the specific sheet\n",
    "    df = pd.read_excel('ctcnDataInput.xlsx', sheet_name=sheets[c])\n",
    "    \n",
    "    # Drop rows that are all blank\n",
    "    df = df.dropna(axis='rows',how='all')\n",
    "    \n",
    "    # Reset the index for simplicity\n",
    "    df = df.reset_index(drop=True)\n",
    "    \n",
    "    # Clean up first column. Create aseries with that column\n",
    "    parentSeries = df.iloc[:,0]\n",
    "    # Convert everything to upper case for simplicity\n",
    "    parentSeries = parentSeries.str.upper()\n",
    "    # Fill all nan values with 0. Nan values != undefined.\n",
    "    parentSeries = parentSeries.fillna(0)\n",
    "    x = parentSeries.tolist()\n",
    "    \n",
    "    if 'PARENT CATEGORY' not in x:\n",
    "        print('Missing Parent Category cell. Check sheet for ', sheets[c])\n",
    "    else:\n",
    "        # if there are values in category column only then do processing:\n",
    "        if len(x)>0:\n",
    "\n",
    "            # 'Unmerge' the values from list\n",
    "            catVal = 0\n",
    "            # Set catVal as the value from parent category if its not 0 or parent category. Else set that element to catVal.\n",
    "            for el in range(len(x)):\n",
    "                # Set catVal and use that to set all data values in subsequent sections\n",
    "                if x[el] != 0:\n",
    "                    if x[el] != 'PARENT CATEGORY':\n",
    "                        catVal = x[el]\n",
    "                else:\n",
    "                    x[el] = catVal\n",
    "\n",
    "            # Create a parent category column in df.\n",
    "            df['Parent Cat'] = x\n",
    "\n",
    "            # Drop all rows above first Mitigation cell in first column\n",
    "            df = df.drop(list(range(x.index('PARENT CATEGORY')+1)))\n",
    "\n",
    "            # Drop the first column because it has bad data\n",
    "            cName = df.columns.values[0]\n",
    "            df = df.drop(labels=cName,axis=1)\n",
    "\n",
    "            # Rearrange DF columns and rename all columns to remove undefined values.\n",
    "            testC = df.columns.tolist()\n",
    "            # The right sheets have 10 columns.\n",
    "            if len(testC)!=10:\n",
    "                print('{} has {} columns, should have 10. Check sheet.'.format(sheets[c],len(testC)))\n",
    "            else:\n",
    "                testC = testC[-1:]+testC[:-1]\n",
    "                df = df[testC]\n",
    "                colNames = ['Parent Category','Category', 'INDC Sector', 'INDC technology',\t'Unconditional Target', 'Technology Needs',\\\n",
    "                            'More information on INDC technology','TNA / TAP technology prioritised','More information of on TNA / TAP Technology',\\\n",
    "                            'Actions / project ideas']\n",
    "                df.columns = colNames\n",
    "\n",
    "                # Fill nan values for downstream ease\n",
    "                # We have dropped all empty rows by now.\n",
    "                df = df.fillna(0)\n",
    "\n",
    "                # Category series can also have 0s, so lets 'unmerge' this column\n",
    "                tempL = df['Category'].tolist()\n",
    "                for s in range(len(tempL)):\n",
    "                    if tempL[s] != 0:\n",
    "                        # first element\n",
    "                        priorVal = tempL[s]\n",
    "                    else:\n",
    "                        # encountered a nan value, set equal to priorVal\n",
    "                        tempL[s]=priorVal\n",
    "\n",
    "                # Update Category column with values\n",
    "                df['Category'] = tempL\n",
    "\n",
    "                # Add country as a column\n",
    "                df['Country'] = [sheets[c]]*df.shape[0]\n",
    "\n",
    "                dfs.append(df)\n",
    "        # Else the file we got has no parent category and something is off with it.\n",
    "        else:\n",
    "            print('Parent Category column for {} has issues'.format(sheets[c]))\n",
    "            print(x)\n",
    "\n",
    "compiledDF = pd.concat(dfs,ignore_index=True)\n",
    "# Drop rows with column headers\n",
    "indToDrop = compiledDF.loc[compiledDF['Unconditional Target']=='Unconditional Target'].index.tolist()\n",
    "compiledDF = compiledDF.drop(index=indToDrop)\n",
    "# Remove anywhere the indc technology was 0. Any undefined cells should be labeled undefined so this is just a list of nans that we converted to 0.\n",
    "newDF = compiledDF.loc[compiledDF['INDC technology']!=0]\n",
    "newDF.to_csv('processed0823.csv')"
   ]
  },
  {
   "cell_type": "code",
   "execution_count": 3,
   "metadata": {},
   "outputs": [
    {
     "data": {
      "text/plain": [
       "'Zimbabwe'"
      ]
     },
     "execution_count": 3,
     "metadata": {},
     "output_type": "execute_result"
    }
   ],
   "source": [
    "sheets[c]"
   ]
  },
  {
   "cell_type": "markdown",
   "metadata": {},
   "source": [
    "*****************************"
   ]
  },
  {
   "cell_type": "code",
   "execution_count": 4,
   "metadata": {},
   "outputs": [],
   "source": [
    "import pandas as pd"
   ]
  },
  {
   "cell_type": "code",
   "execution_count": 5,
   "metadata": {},
   "outputs": [],
   "source": [
    "# Load taxonomy information, this is what we compare against.\n",
    "taxonomy = pd.read_csv('taxonomy.csv')\n",
    "ctcnList = taxonomy['INDC Tech'].tolist()\n",
    "ctcnList.append('Undefined')"
   ]
  },
  {
   "cell_type": "code",
   "execution_count": 6,
   "metadata": {},
   "outputs": [],
   "source": [
    "# Load entered values.\n",
    "loadDF = pd.read_csv('processed0823.csv', index_col=0)\n",
    "enteredValues = loadDF['INDC technology'].tolist()"
   ]
  },
  {
   "cell_type": "code",
   "execution_count": 7,
   "metadata": {},
   "outputs": [],
   "source": [
    "# Strip white spaces\n",
    "valsWoWhitespace = []\n",
    "for v in enteredValues:\n",
    "    valsWoWhitespace.append(v.strip())"
   ]
  },
  {
   "cell_type": "code",
   "execution_count": 8,
   "metadata": {},
   "outputs": [],
   "source": [
    "# Make everything capitalized\n",
    "# Create an array for entered values in all capitals\n",
    "capsRemVals = [x.upper() for x in valsWoWhitespace]\n",
    "# Convert CTCN list to all capitals too\n",
    "capsCtcnList = [x.upper() for x in ctcnList]"
   ]
  },
  {
   "cell_type": "code",
   "execution_count": 9,
   "metadata": {},
   "outputs": [],
   "source": [
    "# Deal with innovative values\n",
    "innovList = []\n",
    "for v in capsCtcnList:\n",
    "    if '*' in v:\n",
    "        innovList.append(v.replace(' *',''))"
   ]
  },
  {
   "cell_type": "code",
   "execution_count": 10,
   "metadata": {},
   "outputs": [
    {
     "data": {
      "text/plain": [
       "['CO2 CAPTURE TECHNOLOGIES',\n",
       " 'INTELLIGENT TRANSPORT SYSTEMS',\n",
       " 'HIGH-SPEED RAIL',\n",
       " 'CAR SHARING',\n",
       " 'ADVANCED BIOFUELS',\n",
       " 'HYBRID ELECTRIC VEHICLES',\n",
       " 'HYDROGEN INFRASTRUCTURE',\n",
       " 'SMART GRID',\n",
       " 'FUEL CELL TECHNOLOGIES',\n",
       " 'ENERGY HARVESTING',\n",
       " 'CARBON SINK AND LOW-CARBON BUILDING MATERIALS',\n",
       " 'DESIGN FOR DECONSTRUCTION',\n",
       " 'PASSIVE HOUSE DESIGN',\n",
       " 'ZERO-ENERGY BUILDING',\n",
       " 'SUPERCONDUCTING MAGNETIC ENERGY STORAGE',\n",
       " 'SOLAR TOWERS (UPDRAFT)',\n",
       " 'ENERGY TOWER (DOWNDRAFT)',\n",
       " 'SOLAR LED LIGHTS',\n",
       " 'FUEL CELLS',\n",
       " 'GRID INTEGRATION FOR RENEWABLES',\n",
       " 'HYBRID RENEWABLE ENERGY SYSTEMS',\n",
       " 'TIDAL ENERGY',\n",
       " 'BIOFUELS FROM ALGAE',\n",
       " 'WET COMPOSTING',\n",
       " 'PEER-TO-PEER LENDING PLATFORMS',\n",
       " 'PRODUCT-AS-SERVICE',\n",
       " 'LIFE CYCLE THINKING',\n",
       " 'DESIGN FOR DISASSEMBLY',\n",
       " 'BIOCHAR',\n",
       " 'CCS FROM CEMENT PRODUCTION',\n",
       " 'INDUSTRIAL SYMBIOSIS',\n",
       " 'ECO-DESIGN',\n",
       " 'TRIGENERATION',\n",
       " 'DISASTER RISK ASSESSMENT TOOLS',\n",
       " 'CLIMATE-RESILIENT TREES',\n",
       " 'INDIGENOUS FOREST MANAGEMENT PRACTISES',\n",
       " 'SOILLESS AGRICULTURE',\n",
       " 'BIOCHAR TECHNOLOGY',\n",
       " 'CROP INSURANCE',\n",
       " 'E-AGRICULTURE',\n",
       " 'ALTERNATIVE SUSTAINABLE FEEDS',\n",
       " 'ARTIFICIAL LOWERING OF GLACIAL LAKES',\n",
       " 'PERMEABLE PARKING LOTS',\n",
       " 'SEAWATER DESALINATION',\n",
       " 'FOG HARVESTING',\n",
       " 'E-HEALTH',\n",
       " 'FLOATING HOUSES',\n",
       " 'FLOATING AGRICULTURAL SYSTEMS',\n",
       " 'ACTIVE MOTION-DAMPENING SYSTEMS FOR MARINE PORTS',\n",
       " 'CLIMATE INSURANCE']"
      ]
     },
     "execution_count": 10,
     "metadata": {},
     "output_type": "execute_result"
    }
   ],
   "source": [
    "innovList"
   ]
  },
  {
   "cell_type": "code",
   "execution_count": 11,
   "metadata": {},
   "outputs": [],
   "source": [
    "# Compare entered values with CTCN list and innovative values\n",
    "invL = []\n",
    "for v in capsRemVals:\n",
    "    tempVal = -1\n",
    "    \n",
    "    # takes care of capitalization errors and leading/trailing spaces\n",
    "    if v in capsCtcnList:\n",
    "        tempVal = 1\n",
    "    else:\n",
    "        # takes care of missing ' *' in technologies\n",
    "        if v in innovList:\n",
    "            tempVal = 1\n",
    "        else:\n",
    "            tempVal = 0\n",
    "    invL.append(tempVal)"
   ]
  },
  {
   "cell_type": "code",
   "execution_count": 12,
   "metadata": {},
   "outputs": [],
   "source": [
    "# update the values in main DF\n",
    "loadDF['INDC technology'] = capsRemVals"
   ]
  },
  {
   "cell_type": "code",
   "execution_count": 13,
   "metadata": {},
   "outputs": [],
   "source": [
    "loadDF['Valid?'] = invL"
   ]
  },
  {
   "cell_type": "code",
   "execution_count": 14,
   "metadata": {},
   "outputs": [
    {
     "data": {
      "text/plain": [
       "(289, 12)"
      ]
     },
     "execution_count": 14,
     "metadata": {},
     "output_type": "execute_result"
    }
   ],
   "source": [
    "loadDF.loc[loadDF['Valid?']==0].shape"
   ]
  },
  {
   "cell_type": "code",
   "execution_count": 15,
   "metadata": {},
   "outputs": [
    {
     "data": {
      "text/plain": [
       "(2631, 12)"
      ]
     },
     "execution_count": 15,
     "metadata": {},
     "output_type": "execute_result"
    }
   ],
   "source": [
    "loadDF.loc[loadDF['Valid?']==1].shape"
   ]
  },
  {
   "cell_type": "code",
   "execution_count": 16,
   "metadata": {},
   "outputs": [
    {
     "name": "stdout",
     "output_type": "stream",
     "text": [
      "HYBRID ELECTRIC VEHICLES *\n",
      "HIGH-SPEED RAIL *\n",
      "INTELLIGENT TRANSPORT SYSTEMS *\n",
      "CO2 CAPTURE TECHNOLOGIES *\n",
      "GRID INTEGRATION FOR RENEWABLES *\n",
      "HYBRID ELECTRIC VEHICLES *\n",
      "INDIGENOUS FOREST MANAGEMENT PRACTISES *\n",
      "GRID INTEGRATION FOR RENEWABLES *\n",
      "GRID INTEGRATION FOR RENEWABLES *\n",
      "CLIMATE-RESILIENT TREES *\n",
      "DISASTER RISK ASSESSMENT TOOLS *\n",
      "CLIMATE INSURANCE *\n",
      "DISASTER RISK ASSESSMENT TOOLS *\n",
      "CROP INSURANCE *\n",
      "CLIMATE INSURANCE *\n",
      "SEAWATER DESALINATION *\n",
      "HYBRID ELECTRIC VEHICLES *\n",
      "ADVANCED BIOFUELS *\n",
      "CLIMATE-RESILIENT TREES *\n",
      "HYBRID RENEWABLE ENERGY SYSTEMS *\n",
      "GRID INTEGRATION FOR RENEWABLES *\n",
      "HYBRID ELECTRIC VEHICLES *\n",
      "CLIMATE INSURANCE *\n",
      "HYBRID ELECTRIC VEHICLES *\n",
      "SEAWATER DESALINATION *\n",
      "TIDAL ENERGY *\n",
      "GRID INTEGRATION FOR RENEWABLES *\n",
      "HIGH-SPEED RAIL *\n",
      "LIFE CYCLE THINKING *\n",
      "DISASTER RISK ASSESSMENT TOOLS *\n",
      "SEAWATER DESALINATION *\n",
      "SEAWATER DESALINATION *\n",
      "FUEL CELLS *\n",
      "GRID INTEGRATION FOR RENEWABLES *\n",
      "ADVANCED BIOFUELS *\n",
      "SEAWATER DESALINATION *\n",
      "SEAWATER DESALINATION *\n",
      "DISASTER RISK ASSESSMENT TOOLS *\n",
      "GRID INTEGRATION FOR RENEWABLES *\n",
      "ADVANCED BIOFUELS *\n",
      "CROP INSURANCE *\n",
      "CLIMATE INSURANCE *\n",
      "HIGH-SPEED RAIL *\n",
      "CLIMATE INSURANCE *\n"
     ]
    }
   ],
   "source": [
    "ct = 0\n",
    "for v in capsRemVals:\n",
    "    if v in innovList:\n",
    "        loadDF.iloc[ct,3] = v+' *'\n",
    "        print(loadDF.iloc[ct,3])\n",
    "    ct += 1"
   ]
  },
  {
   "cell_type": "code",
   "execution_count": 17,
   "metadata": {},
   "outputs": [],
   "source": [
    "inputData = loadDF.loc[loadDF['Valid?']==1]"
   ]
  },
  {
   "cell_type": "code",
   "execution_count": 18,
   "metadata": {},
   "outputs": [],
   "source": [
    "pcList = inputData['Parent Category'].tolist()"
   ]
  },
  {
   "cell_type": "code",
   "execution_count": 19,
   "metadata": {},
   "outputs": [],
   "source": [
    "cleanPcList = []\n",
    "for v in pcList:\n",
    "    cleanPcList.append(v.replace('\\n',''))"
   ]
  },
  {
   "cell_type": "code",
   "execution_count": 20,
   "metadata": {},
   "outputs": [
    {
     "name": "stderr",
     "output_type": "stream",
     "text": [
      "C:\\Users\\bhavrathod\\anaconda3\\envs\\py37\\lib\\site-packages\\ipykernel_launcher.py:1: SettingWithCopyWarning: \n",
      "A value is trying to be set on a copy of a slice from a DataFrame.\n",
      "Try using .loc[row_indexer,col_indexer] = value instead\n",
      "\n",
      "See the caveats in the documentation: https://pandas.pydata.org/pandas-docs/stable/user_guide/indexing.html#returning-a-view-versus-a-copy\n",
      "  \"\"\"Entry point for launching an IPython kernel.\n"
     ]
    }
   ],
   "source": [
    "inputData['Parent Category'] = cleanPcList"
   ]
  },
  {
   "cell_type": "code",
   "execution_count": 21,
   "metadata": {},
   "outputs": [
    {
     "data": {
      "text/html": [
       "<div>\n",
       "<style scoped>\n",
       "    .dataframe tbody tr th:only-of-type {\n",
       "        vertical-align: middle;\n",
       "    }\n",
       "\n",
       "    .dataframe tbody tr th {\n",
       "        vertical-align: top;\n",
       "    }\n",
       "\n",
       "    .dataframe thead th {\n",
       "        text-align: right;\n",
       "    }\n",
       "</style>\n",
       "<table border=\"1\" class=\"dataframe\">\n",
       "  <thead>\n",
       "    <tr style=\"text-align: right;\">\n",
       "      <th></th>\n",
       "      <th>Parent Category</th>\n",
       "      <th>Category</th>\n",
       "      <th>INDC Sector</th>\n",
       "      <th>INDC technology</th>\n",
       "      <th>Unconditional Target</th>\n",
       "      <th>Technology Needs</th>\n",
       "      <th>More information on INDC technology</th>\n",
       "      <th>TNA / TAP technology prioritised</th>\n",
       "      <th>More information of on TNA / TAP Technology</th>\n",
       "      <th>Actions / project ideas</th>\n",
       "      <th>Country</th>\n",
       "      <th>Valid?</th>\n",
       "    </tr>\n",
       "  </thead>\n",
       "  <tbody>\n",
       "    <tr>\n",
       "      <th>0</th>\n",
       "      <td>MITIGATION</td>\n",
       "      <td>Energy Efficiency</td>\n",
       "      <td>Appliances and equipment</td>\n",
       "      <td>APPLIANCE STANDARDS</td>\n",
       "      <td>0</td>\n",
       "      <td>Carbon fiance and project development skills. ...</td>\n",
       "      <td>0</td>\n",
       "      <td>0</td>\n",
       "      <td>0</td>\n",
       "      <td>0</td>\n",
       "      <td>Afghanistan</td>\n",
       "      <td>1</td>\n",
       "    </tr>\n",
       "    <tr>\n",
       "      <th>1</th>\n",
       "      <td>MITIGATION</td>\n",
       "      <td>Energy Efficiency</td>\n",
       "      <td>Buildings</td>\n",
       "      <td>BUILDING STANDARDS AND CODES</td>\n",
       "      <td>0</td>\n",
       "      <td>0</td>\n",
       "      <td>0</td>\n",
       "      <td>2 - Small Hydropower</td>\n",
       "      <td>potential for hydropower development estimated...</td>\n",
       "      <td>Reduce dependence on imported electricity. Imp...</td>\n",
       "      <td>Afghanistan</td>\n",
       "      <td>1</td>\n",
       "    </tr>\n",
       "    <tr>\n",
       "      <th>2</th>\n",
       "      <td>MITIGATION</td>\n",
       "      <td>Energy Efficiency</td>\n",
       "      <td>Undefined</td>\n",
       "      <td>UNDEFINED</td>\n",
       "      <td>0</td>\n",
       "      <td>0</td>\n",
       "      <td>0</td>\n",
       "      <td>0</td>\n",
       "      <td>0</td>\n",
       "      <td>0</td>\n",
       "      <td>Afghanistan</td>\n",
       "      <td>1</td>\n",
       "    </tr>\n",
       "    <tr>\n",
       "      <th>3</th>\n",
       "      <td>MITIGATION</td>\n",
       "      <td>Renewable Energy</td>\n",
       "      <td>Undefined</td>\n",
       "      <td>UNDEFINED</td>\n",
       "      <td>0</td>\n",
       "      <td>Human and institutional capacity for adoption ...</td>\n",
       "      <td>0</td>\n",
       "      <td>0</td>\n",
       "      <td>0</td>\n",
       "      <td>0</td>\n",
       "      <td>Afghanistan</td>\n",
       "      <td>1</td>\n",
       "    </tr>\n",
       "    <tr>\n",
       "      <th>4</th>\n",
       "      <td>MITIGATION</td>\n",
       "      <td>Renewable Energy</td>\n",
       "      <td>Solar</td>\n",
       "      <td>SOLAR PV</td>\n",
       "      <td>0</td>\n",
       "      <td>0</td>\n",
       "      <td>0</td>\n",
       "      <td>Energy Sector - prioritization - 1 - Solar Ene...</td>\n",
       "      <td>Large-scale, - The main constraint to the depl...</td>\n",
       "      <td>0</td>\n",
       "      <td>Afghanistan</td>\n",
       "      <td>1</td>\n",
       "    </tr>\n",
       "  </tbody>\n",
       "</table>\n",
       "</div>"
      ],
      "text/plain": [
       "  Parent Category           Category               INDC Sector  \\\n",
       "0      MITIGATION  Energy Efficiency  Appliances and equipment   \n",
       "1      MITIGATION  Energy Efficiency                 Buildings   \n",
       "2      MITIGATION  Energy Efficiency                 Undefined   \n",
       "3      MITIGATION   Renewable Energy                 Undefined   \n",
       "4      MITIGATION   Renewable Energy                     Solar   \n",
       "\n",
       "                INDC technology Unconditional Target  \\\n",
       "0           APPLIANCE STANDARDS                    0   \n",
       "1  BUILDING STANDARDS AND CODES                    0   \n",
       "2                     UNDEFINED                    0   \n",
       "3                     UNDEFINED                    0   \n",
       "4                      SOLAR PV                    0   \n",
       "\n",
       "                                    Technology Needs  \\\n",
       "0  Carbon fiance and project development skills. ...   \n",
       "1                                                  0   \n",
       "2                                                  0   \n",
       "3  Human and institutional capacity for adoption ...   \n",
       "4                                                  0   \n",
       "\n",
       "  More information on INDC technology  \\\n",
       "0                                   0   \n",
       "1                                   0   \n",
       "2                                   0   \n",
       "3                                   0   \n",
       "4                                   0   \n",
       "\n",
       "                    TNA / TAP technology prioritised  \\\n",
       "0                                                  0   \n",
       "1                               2 - Small Hydropower   \n",
       "2                                                  0   \n",
       "3                                                  0   \n",
       "4  Energy Sector - prioritization - 1 - Solar Ene...   \n",
       "\n",
       "         More information of on TNA / TAP Technology  \\\n",
       "0                                                  0   \n",
       "1  potential for hydropower development estimated...   \n",
       "2                                                  0   \n",
       "3                                                  0   \n",
       "4  Large-scale, - The main constraint to the depl...   \n",
       "\n",
       "                             Actions / project ideas      Country  Valid?  \n",
       "0                                                  0  Afghanistan       1  \n",
       "1  Reduce dependence on imported electricity. Imp...  Afghanistan       1  \n",
       "2                                                  0  Afghanistan       1  \n",
       "3                                                  0  Afghanistan       1  \n",
       "4                                                  0  Afghanistan       1  "
      ]
     },
     "execution_count": 21,
     "metadata": {},
     "output_type": "execute_result"
    }
   ],
   "source": [
    "inputData.head()"
   ]
  },
  {
   "cell_type": "code",
   "execution_count": 22,
   "metadata": {},
   "outputs": [],
   "source": [
    "inputData.to_csv('validData.csv')"
   ]
  },
  {
   "cell_type": "code",
   "execution_count": 23,
   "metadata": {},
   "outputs": [],
   "source": [
    "loadDF.loc[loadDF['Valid?']==0].to_csv('invalid.csv')"
   ]
  },
  {
   "cell_type": "markdown",
   "metadata": {},
   "source": [
    "************"
   ]
  }
 ],
 "metadata": {
  "kernelspec": {
   "display_name": "Python 3",
   "language": "python",
   "name": "python3"
  },
  "language_info": {
   "codemirror_mode": {
    "name": "ipython",
    "version": 3
   },
   "file_extension": ".py",
   "mimetype": "text/x-python",
   "name": "python",
   "nbconvert_exporter": "python",
   "pygments_lexer": "ipython3",
   "version": "3.7.7"
  }
 },
 "nbformat": 4,
 "nbformat_minor": 4
}
